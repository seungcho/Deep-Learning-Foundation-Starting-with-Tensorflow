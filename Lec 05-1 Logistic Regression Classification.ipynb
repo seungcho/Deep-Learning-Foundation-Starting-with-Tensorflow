{
 "cells": [
  {
   "cell_type": "markdown",
   "metadata": {},
   "source": [
    "## **Lec 05-1: Logistic Regression/Classification**"
   ]
  },
  {
   "cell_type": "markdown",
   "metadata": {},
   "source": [
    "![test](./img/lc5-1.png)"
   ]
  },
  {
   "attachments": {},
   "cell_type": "markdown",
   "metadata": {},
   "source": [
    "**Classification은 variable이 0(Positive) or 1(Negative)로 출력되는 분류 기법이다.**\n",
    "\n",
    "> **Exam: 시험이 합격 or 불합격**\n",
    "\n",
    "> **Spam: 스팸메일인지 아닌지**\n",
    "\n",
    "> **Face: 진짜 얼굴인지 가짜 얼굴인지**\n",
    "\n",
    "> **Tumor: 암인지 아닌지**"
   ]
  },
  {
   "cell_type": "markdown",
   "metadata": {},
   "source": [
    "![test](./img/lc5-2.png)"
   ]
  },
  {
   "cell_type": "markdown",
   "metadata": {},
   "source": [
    "**Logistic은 Discrete(이산)으로 주어진 데이터 포인트들을 예측(0 ~ 1)하는 역할을 하고, Linear는 Countinous(연속)으로 주어진 데이터 포인트들을 예측(-inf ~ +inf)하는 역할을 한다.**"
   ]
  },
  {
   "cell_type": "markdown",
   "metadata": {},
   "source": [
    "![test](./img/lc5-3.png)"
   ]
  },
  {
   "cell_type": "markdown",
   "metadata": {},
   "source": [
    "**linear regression을 할때 우리는 h(x) = Wx + b를 사용했다. 하지만 이는 출력 값 h(x)의 범위가 -inf ~ +inf 이므로 binary or multi 분류를 수행할 수 없음으로 새로운 function이 필요하다.**"
   ]
  },
  {
   "cell_type": "markdown",
   "metadata": {},
   "source": [
    "![test](./img/lc5-4.png)"
   ]
  },
  {
   "cell_type": "markdown",
   "metadata": {},
   "source": [
    "**따라서 Classification hypothesis는 h(x) = g(Wx+b)로 재표현된다. 그렇다면 g(z) function은 무엇일까?**"
   ]
  },
  {
   "cell_type": "markdown",
   "metadata": {},
   "source": [
    "**g(z) function을 알아보기 전 수행과정을 보면 먼저 X(input data)를 통해 기존의 h(x) = Wx + b를 수행하고 그 결과를 Logistic function 함수를 통해 0 ~ 1 사이의 출력값으로 변환한다. 마지막으로 출력값이 0.5 보다 크면 1, 0.5 보다 작으면 0을 출력해낸다.**\n",
    "\n",
    "> **일반적으로 임계값은 0.5를 기준으로 하며, 재현율(recall) or 정밀도(precision)에 따라 이 임계값을 변경해 나간다.**"
   ]
  },
  {
   "cell_type": "markdown",
   "metadata": {},
   "source": [
    "![test](./img/lc5-5.png)"
   ]
  },
  {
   "cell_type": "markdown",
   "metadata": {},
   "source": [
    "**Logistic function은 g(z) = 1/(1+e^-z)로 정의할 수 있다.**"
   ]
  },
  {
   "cell_type": "markdown",
   "metadata": {},
   "source": [
    "![test](./img/lc5-6.png)"
   ]
  },
  {
   "cell_type": "markdown",
   "metadata": {},
   "source": [
    "**Decision Boundary(결정경계)란 두 개의 계층을 가지고 있는 통계적인 분류 문제에서, 결정 경계는 기본 벡터공간을 각 클래스에 대하여 하나씩 두 개의 집합으로 나누는 초표면이다. 분류기는 결정 경계의 한쪽에 있는 모든 점을 한 클래스, 다른 한쪽에 있는 모든 점을 다른 클래스에 속하는 것으로 분류한다.**\n",
    "\n",
    "> **결정 경계는 출력 계층이 모호한 문제 공간의 영역이다. 만약 결정표면이 초평면이라면, 분류문제는 선형이며 그 계층들은 선형적으로 분리가능하다.**\n",
    "\n",
    "> **결정 경계가 항상 명확한 것은 아니다. 즉 특징 공간안에서의 한 계층으로부터 다른 계층으로의 전이는 불연속적인 게 아니라 점진적이다. 이 효과는 계층들이 모호할 때 퍼지 논리 기반의 분류 알고리즘에서 보편적이다.**"
   ]
  }
 ],
 "metadata": {
  "kernelspec": {
   "display_name": "Python 3",
   "language": "python",
   "name": "python3"
  },
  "language_info": {
   "codemirror_mode": {
    "name": "ipython",
    "version": 3
   },
   "file_extension": ".py",
   "mimetype": "text/x-python",
   "name": "python",
   "nbconvert_exporter": "python",
   "pygments_lexer": "ipython3",
   "version": "3.6.9"
  }
 },
 "nbformat": 4,
 "nbformat_minor": 2
}
