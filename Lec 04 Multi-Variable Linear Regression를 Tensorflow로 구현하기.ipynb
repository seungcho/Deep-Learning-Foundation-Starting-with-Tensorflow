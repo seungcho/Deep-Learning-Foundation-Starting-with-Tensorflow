{
 "cells": [
  {
   "cell_type": "markdown",
   "metadata": {},
   "source": [
    "## **Lec 04: Multi-Variable Linear Regression를 Tensorflow로 구현하기**"
   ]
  },
  {
   "cell_type": "markdown",
   "metadata": {},
   "source": [
    "### **Hypothesis using matrix**"
   ]
  },
  {
   "cell_type": "code",
   "execution_count": 4,
   "metadata": {},
   "outputs": [],
   "source": [
    "import tensorflow as tf\n",
    "import numpy as np\n",
    "tf.enable_eager_execution()"
   ]
  },
  {
   "cell_type": "code",
   "execution_count": 2,
   "metadata": {},
   "outputs": [
    {
     "name": "stdout",
     "output_type": "stream",
     "text": [
      "    0 |   47074.9883\n",
      "   50 |     529.5383\n",
      "  100 |      12.9440\n",
      "  150 |       7.1930\n",
      "  200 |       7.1115\n",
      "  250 |       7.0929\n",
      "  300 |       7.0752\n",
      "  350 |       7.0574\n",
      "  400 |       7.0398\n",
      "  450 |       7.0221\n",
      "  500 |       7.0046\n",
      "  550 |       6.9871\n",
      "  600 |       6.9696\n",
      "  650 |       6.9521\n",
      "  700 |       6.9348\n",
      "  750 |       6.9174\n",
      "  800 |       6.9001\n",
      "  850 |       6.8828\n",
      "  900 |       6.8656\n",
      "  950 |       6.8485\n",
      " 1000 |       6.8314\n"
     ]
    }
   ],
   "source": [
    "# data and label\n",
    "x1 = [73.,93.,89.,96.,73.]\n",
    "x2 = [80.,88.,91.,98.,66.]\n",
    "x3 = [75.,93.,90.,100.,70.]\n",
    "Y = [152.,185.,180.,196.,142.]\n",
    "\n",
    "# random weight\n",
    "w1 = tf.Variable(tf.random_normal([1]))\n",
    "w2 = tf.Variable(tf.random_normal([1]))\n",
    "w3 = tf.Variable(tf.random_normal([1]))\n",
    "b = tf.Variable(tf.random_normal([1]))\n",
    "\n",
    "\n",
    "learning_rate = 0.000001\n",
    "\n",
    "for i in range(1001):\n",
    "    # tf.GradientTape() to record the gradient of the cost function\n",
    "    with tf.GradientTape() as tape:\n",
    "        hypothesis = w1 * x1 + w2 * x2 + w3 * x3 + b\n",
    "        cost = tf.reduce_mean(tf.square(hypothesis - Y))\n",
    "    \n",
    "    # calculates the gradients of the cost\n",
    "    w1_grad, w2_grad, w3_grad, b_grad = tape.gradient(cost,[w1,w2,w3,b])\n",
    "    \n",
    "    # update w1,w2,w3 and b\n",
    "    w1.assign_sub(learning_rate * w1_grad)\n",
    "    w2.assign_sub(learning_rate * w2_grad)\n",
    "    w3.assign_sub(learning_rate * w3_grad)\n",
    "    \n",
    "    if i % 50 == 0:\n",
    "        print('{:5} | {:12.4f}'.format(i,cost.numpy()))"
   ]
  },
  {
   "cell_type": "code",
   "execution_count": 5,
   "metadata": {},
   "outputs": [
    {
     "name": "stdout",
     "output_type": "stream",
     "text": [
      "    0 | 79737.5312\n",
      "  100 |    42.1266\n",
      "  200 |    32.1407\n",
      "  300 |    31.9667\n",
      "  400 |    31.7949\n",
      "  500 |    31.6240\n",
      "  600 |    31.4540\n",
      "  700 |    31.2850\n",
      "  800 |    31.1168\n",
      "  900 |    30.9495\n",
      " 1000 |    30.7832\n",
      " 1100 |    30.6178\n",
      " 1200 |    30.4532\n",
      " 1300 |    30.2896\n",
      " 1400 |    30.1269\n",
      " 1500 |    29.9650\n",
      " 1600 |    29.8039\n",
      " 1700 |    29.6438\n",
      " 1800 |    29.4845\n",
      " 1900 |    29.3261\n",
      " 2000 |    29.1685\n",
      "X_test의 예측 값: tf.Tensor([[184.65518]], shape=(1, 1), dtype=float32)\n"
     ]
    }
   ],
   "source": [
    "# data\n",
    "data = np.array([\n",
    "    [73.,80.,75.,152.],\n",
    "    [93.,88.,93.,185.],\n",
    "    [89.,91.,90.,180.],\n",
    "    [96.,98.,100.,196.],\n",
    "    [73.,66.,70.,142.]\n",
    "],dtype=np.float32)\n",
    "\n",
    "# slice data\n",
    "X_train = data[:,:-1]\n",
    "y_train = data[:,[-1]]\n",
    "\n",
    "W = tf.Variable(tf.random_normal([3,1]))\n",
    "b = tf.Variable(tf.random_normal([1]))\n",
    "\n",
    "# learning rate\n",
    "learning_rate = 0.000001\n",
    "\n",
    "# training\n",
    "n_epoch = 2000\n",
    "for i in range(n_epoch+1):\n",
    "    # record the gradient of the cost function\n",
    "    with tf.GradientTape() as tape:\n",
    "        hypothesis = tf.matmul(X_train,W) + b\n",
    "        cost = tf.reduce_mean(tf.square(hypothesis - y_train))\n",
    "    # calculates the gradients of the Loss\n",
    "    W_grad, b_grad = tape.gradient(cost, [W,b]) \n",
    "    \n",
    "    # update parameters (W and b)\n",
    "    W.assign_sub(learning_rate * W_grad)\n",
    "    b.assign_sub(learning_rate * b_grad)\n",
    "    \n",
    "    if i % 100 == 0:\n",
    "        print(\"{:5} | {:10.4f}\".format(i,cost.numpy()))\n",
    "        \n",
    "# prediction function\n",
    "def predict(X,W,b):\n",
    "    prediction = tf.matmul(X,W) + b\n",
    "    return prediction\n",
    "\n",
    "# test\n",
    "X_test = np.array([[100.,90.,98.]],dtype=np.float32)\n",
    "prediction = predict(X_test,W,b)\n",
    "print('X_test의 예측 값:',prediction)"
   ]
  }
 ],
 "metadata": {
  "kernelspec": {
   "display_name": "Python 3",
   "language": "python",
   "name": "python3"
  },
  "language_info": {
   "codemirror_mode": {
    "name": "ipython",
    "version": 3
   },
   "file_extension": ".py",
   "mimetype": "text/x-python",
   "name": "python",
   "nbconvert_exporter": "python",
   "pygments_lexer": "ipython3",
   "version": "3.6.9"
  }
 },
 "nbformat": 4,
 "nbformat_minor": 2
}
