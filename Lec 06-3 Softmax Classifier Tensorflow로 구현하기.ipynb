{
 "cells": [
  {
   "cell_type": "markdown",
   "metadata": {},
   "source": [
    "## **Lab 06-3: Softmax Classifier Tensorflow 구현하기**"
   ]
  },
  {
   "cell_type": "code",
   "execution_count": 2,
   "metadata": {},
   "outputs": [
    {
     "name": "stdout",
     "output_type": "stream",
     "text": [
      "WARNING:tensorflow:\n",
      "The TensorFlow contrib module will not be included in TensorFlow 2.0.\n",
      "For more information, please see:\n",
      "  * https://github.com/tensorflow/community/blob/master/rfcs/20180907-contrib-sunset.md\n",
      "  * https://github.com/tensorflow/addons\n",
      "  * https://github.com/tensorflow/io (for I/O related ops)\n",
      "If you depend on functionality not listed there, please file an issue.\n",
      "\n"
     ]
    }
   ],
   "source": [
    "import tensorflow as tf\n",
    "import numpy as np\n",
    "tf.enable_eager_execution()\n",
    "tf.set_random_seed(777)  # for reproducibility\n",
    "tfe = tf.contrib.eager"
   ]
  },
  {
   "cell_type": "code",
   "execution_count": 1,
   "metadata": {},
   "outputs": [],
   "source": [
    "# Sample Dataset\n",
    "\n",
    "x_data = [\n",
    "    [1,2,1,1],\n",
    "    [2,1,3,2],\n",
    "    [3,1,3,4],\n",
    "    [4,1,5,5],\n",
    "    [1,7,5,5],\n",
    "    [1,2,5,6],\n",
    "    [1,6,6,6],\n",
    "    [1,7,7,7],\n",
    "]\n",
    "\n",
    "y_data = [\n",
    "    [0,0,1],\n",
    "    [0,0,1],\n",
    "    [0,0,1],\n",
    "    [0,1,0],\n",
    "    [0,1,0],\n",
    "    [0,1,0],\n",
    "    [1,0,0],\n",
    "    [1,0,0],\n",
    "]"
   ]
  },
  {
   "cell_type": "code",
   "execution_count": 3,
   "metadata": {},
   "outputs": [],
   "source": [
    "# convert into numpy and float format\n",
    "x_data = np.asarray(x_data, dtype=np.float32) # list -> numpy\n",
    "y_data = np.asarray(y_data, dtype=np.float32) # list -> numpy\n",
    "\n",
    "nb_classes = 3 # num classes"
   ]
  },
  {
   "cell_type": "code",
   "execution_count": 11,
   "metadata": {},
   "outputs": [
    {
     "data": {
      "text/plain": [
       "[<tf.Variable 'weight:0' shape=(4, 3) dtype=float32, numpy=\n",
       " array([[ 2.0265348 , -0.19990598,  0.18759498],\n",
       "        [-1.8624718 ,  1.1830902 , -0.75108325],\n",
       "        [ 0.7819291 ,  0.19707595,  0.6640797 ],\n",
       "        [ 1.5643852 , -0.04990807, -0.38255563]], dtype=float32)>,\n",
       " <tf.Variable 'bias:0' shape=(3,) dtype=float32, numpy=array([-1.4564867 ,  0.53983474, -1.1366715 ], dtype=float32)>]"
      ]
     },
     "execution_count": 11,
     "metadata": {},
     "output_type": "execute_result"
    }
   ],
   "source": [
    "# weight and bias setting\n",
    "W = tfe.Variable(tf.random_normal([4, nb_classes]), name='weight')\n",
    "b = tfe.Variable(tf.random_normal([nb_classes]), name='bias')\n",
    "variables = [W,b]\n",
    "variables"
   ]
  },
  {
   "cell_type": "code",
   "execution_count": 18,
   "metadata": {},
   "outputs": [],
   "source": [
    "# tf.nn.softmax computes softmax activations\n",
    "def hypothesis(X):\n",
    "    return tf.nn.softmax(tf.matmul(X,W) + b)"
   ]
  },
  {
   "cell_type": "code",
   "execution_count": 19,
   "metadata": {},
   "outputs": [
    {
     "data": {
      "text/plain": [
       "<tf.Tensor: id=140, shape=(8, 3), dtype=float32, numpy=\n",
       "array([[2.4881808e-02, 9.6873927e-01, 6.3789245e-03],\n",
       "       [9.8632777e-01, 1.2180600e-02, 1.4916507e-03],\n",
       "       [9.9994230e-01, 5.2787913e-05, 4.8965262e-06],\n",
       "       [9.9999952e-01, 3.5200765e-07, 8.7773259e-08],\n",
       "       [4.1362971e-05, 9.9995792e-01, 7.1108065e-07],\n",
       "       [9.9881989e-01, 1.1706438e-03, 9.4601755e-06],\n",
       "       [7.7800662e-03, 9.9221438e-01, 5.5833375e-06],\n",
       "       [3.3521655e-03, 9.9664682e-01, 9.2721103e-07]], dtype=float32)>"
      ]
     },
     "execution_count": 19,
     "metadata": {},
     "output_type": "execute_result"
    }
   ],
   "source": [
    "hypothesis(x_data)"
   ]
  },
  {
   "cell_type": "code",
   "execution_count": 20,
   "metadata": {},
   "outputs": [
    {
     "name": "stdout",
     "output_type": "stream",
     "text": [
      "tf.Tensor([[1.0000000e+00 5.2308366e-08 1.9130997e-09]], shape=(1, 3), dtype=float32)\n"
     ]
    }
   ],
   "source": [
    "# softmax onehot test\n",
    "sample_db = [[8,2,1,4]]\n",
    "sample_db = np.asarray(sample_db,dtype=np.float32)\n",
    "\n",
    "print(hypothesis(sample_db))"
   ]
  },
  {
   "cell_type": "code",
   "execution_count": 23,
   "metadata": {},
   "outputs": [
    {
     "name": "stdout",
     "output_type": "stream",
     "text": [
      "tf.Tensor(6.9942255, shape=(), dtype=float32)\n"
     ]
    }
   ],
   "source": [
    "# cost function(cross_entropy)\n",
    "def cost_fn(X,Y):\n",
    "    logits = hypothesis(X)\n",
    "    cost = -tf.reduce_sum(Y * tf.log(logits), axis = 1)\n",
    "    cost_mean = tf.reduce_mean(cost)\n",
    "    return cost_mean\n",
    "\n",
    "print(cost_fn(x_data,y_data))"
   ]
  },
  {
   "cell_type": "code",
   "execution_count": 27,
   "metadata": {},
   "outputs": [
    {
     "name": "stdout",
     "output_type": "stream",
     "text": [
      "[<tf.Tensor: id=230, shape=(4, 3), dtype=float32, numpy=\n",
      "array([[ 1.0009195 , -0.25209376, -0.7488257 ],\n",
      "       [-0.9869866 ,  1.4851966 , -0.4982102 ],\n",
      "       [ 0.3810178 ,  0.49261218, -0.87363005],\n",
      "       [ 0.50757205,  0.3662426 , -0.8738147 ]], dtype=float32)>, <tf.Tensor: id=229, shape=(3,), dtype=float32, numpy=array([ 0.2526431 ,  0.12137035, -0.37401348], dtype=float32)>]\n"
     ]
    }
   ],
   "source": [
    "def grad_fn(X,Y):\n",
    "    with tf.GradientTape() as tape:\n",
    "        loss = cost_fn(X,Y)\n",
    "        grad = tape.gradient(loss,variables)\n",
    "    return grad\n",
    "\n",
    "print(grad_fn(x_data,y_data))"
   ]
  },
  {
   "cell_type": "code",
   "execution_count": 33,
   "metadata": {},
   "outputs": [
    {
     "name": "stdout",
     "output_type": "stream",
     "text": [
      "Loss at epoch 0: 0.040280\n",
      "Loss at epoch 100: 0.039896\n",
      "Loss at epoch 200: 0.039520\n",
      "Loss at epoch 300: 0.039151\n",
      "Loss at epoch 400: 0.038788\n",
      "Loss at epoch 500: 0.038432\n",
      "Loss at epoch 600: 0.038082\n",
      "Loss at epoch 700: 0.037739\n",
      "Loss at epoch 800: 0.037401\n",
      "Loss at epoch 900: 0.037070\n",
      "Loss at epoch 1000: 0.036744\n",
      "Loss at epoch 1100: 0.036424\n",
      "Loss at epoch 1200: 0.036109\n",
      "Loss at epoch 1300: 0.035800\n",
      "Loss at epoch 1400: 0.035496\n",
      "Loss at epoch 1500: 0.035197\n",
      "Loss at epoch 1600: 0.034903\n",
      "Loss at epoch 1700: 0.034613\n",
      "Loss at epoch 1800: 0.034329\n",
      "Loss at epoch 1900: 0.034049\n",
      "Loss at epoch 2000: 0.033773\n"
     ]
    }
   ],
   "source": [
    "def fit(X, Y, epochs=2000, verbose=100):\n",
    "    optimizer =  tf.train.GradientDescentOptimizer(learning_rate=0.1)\n",
    "\n",
    "    for i in range(epochs + 1):\n",
    "        grads = grad_fn(X, Y)\n",
    "        optimizer.apply_gradients(zip(grads, variables))\n",
    "        if i % 100 == 0:\n",
    "            print('Loss at epoch %d: %f' %(i, cost_fn(X, Y).numpy()))\n",
    "            \n",
    "fit(x_data, y_data"
   ]
  },
  {
   "cell_type": "code",
   "execution_count": 34,
   "metadata": {},
   "outputs": [
    {
     "name": "stdout",
     "output_type": "stream",
     "text": [
      "tf.Tensor([[1.3606435e-04 1.6270988e-02 9.8359299e-01]], shape=(1, 3), dtype=float32)\n",
      "tf.Tensor([2], shape=(1,), dtype=int64)\n"
     ]
    }
   ],
   "source": [
    "sample_data = [[2,1,3,2]] # answer_label [[0,0,1]]\n",
    "sample_data = np.asarray(sample_data, dtype=np.float32)\n",
    "\n",
    "a = hypothesis(sample_data)\n",
    "\n",
    "print(a)\n",
    "print(tf.argmax(a, 1)) #index: 2"
   ]
  }
 ],
 "metadata": {
  "kernelspec": {
   "display_name": "Python 3",
   "language": "python",
   "name": "python3"
  },
  "language_info": {
   "codemirror_mode": {
    "name": "ipython",
    "version": 3
   },
   "file_extension": ".py",
   "mimetype": "text/x-python",
   "name": "python",
   "nbconvert_exporter": "python",
   "pygments_lexer": "ipython3",
   "version": "3.6.9"
  }
 },
 "nbformat": 4,
 "nbformat_minor": 2
}
