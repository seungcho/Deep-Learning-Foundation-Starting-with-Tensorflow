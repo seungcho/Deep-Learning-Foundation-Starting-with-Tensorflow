{
 "cells": [
  {
   "cell_type": "markdown",
   "metadata": {},
   "source": [
    "## **Lec 03: Linear Regression and How to minimize cost**"
   ]
  },
  {
   "cell_type": "markdown",
   "metadata": {},
   "source": [
    "![test](./img/lc3-1.png)"
   ]
  },
  {
   "attachments": {},
   "cell_type": "markdown",
   "metadata": {},
   "source": [
    "**Cost는 W,b에 대한 함수이고, 우리의 예측값과 실제 값을 뺀 제곱의 평균이다.**\n",
    "\n",
    "> **즉, Cost가 최소가 되는 W,b가 되는 것이 목표**"
   ]
  },
  {
   "cell_type": "markdown",
   "metadata": {},
   "source": [
    " ![test](./img/lc3-2.png)"
   ]
  },
  {
   "cell_type": "markdown",
   "metadata": {},
   "source": [
    "**Hypothesis 식을 보면 b가 생략 되면서 W의 Matrix안에 b가 들어간다.**"
   ]
  },
  {
   "cell_type": "markdown",
   "metadata": {},
   "source": [
    "![test](./img/lc3-3.png)"
   ]
  },
  {
   "cell_type": "markdown",
   "metadata": {},
   "source": [
    "**W(weight)를 조금씩 조정하면서 Cost함수 값을 계산을 했을때, W=1일 때 Cost값이 0으로 가장 최적의 파라미터임을 확인할 수 있다.**"
   ]
  },
  {
   "cell_type": "markdown",
   "metadata": {},
   "source": [
    "![test](./img/lc3-4.png)"
   ]
  },
  {
   "cell_type": "markdown",
   "metadata": {},
   "source": [
    "![test](./img/lc3-5.png)"
   ]
  },
  {
   "cell_type": "markdown",
   "metadata": {},
   "source": [
    "**weight값을 -3 ~ 5까지 조금 더 세밀하게 분할하여 Cost값을 계산 했을때 위 그림과 같은 시각화가 나타난다.**"
   ]
  },
  {
   "cell_type": "markdown",
   "metadata": {},
   "source": [
    "![test](./img/lc3-6.png)"
   ]
  },
  {
   "cell_type": "markdown",
   "metadata": {},
   "source": [
    "**Gradient descent algorithm은 Cost 함수가 최소가 되도록 하는 W,b(파라미터)를 구하는 경사 하강 알고리즘이다.**"
   ]
  },
  {
   "cell_type": "markdown",
   "metadata": {},
   "source": [
    "![test](./img/lc3-7.png)"
   ]
  },
  {
   "cell_type": "markdown",
   "metadata": {},
   "source": [
    " **파라미터 업데이트 과정**\n",
    " \n",
    " > **Start with initial guesses(초기 가중치 설정)**\n",
    " \n",
    " > **각각 시점에 따라 파라미터들을 기울기에 따라 cost(w,b)가 최소가 되는 방향으로 변화시킨다.**\n",
    " \n",
    " > **위 작업을 반복**\n",
    " \n",
    " > **Cost 값이 가장 최소가 되는 지점(global minimum)의 W,b(파라미터) 값들을 최종 결정한다.**"
   ]
  },
  {
   "cell_type": "markdown",
   "metadata": {},
   "source": [
    "![test](./img/lc3-8.png)"
   ]
  },
  {
   "cell_type": "markdown",
   "metadata": {},
   "source": [
    "> **Initial Weight 지점의 Cost 함수를 미분하여 기울기를 구하고 이것을 다음 W 값에 업데이트를 해준다.**\n",
    "\n",
    "> **위 과정을 반복하여 Minimum Cost가 된 지점의 W(파라미터)값을 최종 파라미터로 결정한다.**"
   ]
  },
  {
   "cell_type": "markdown",
   "metadata": {},
   "source": [
    "![test](./img/lc3-9.png)"
   ]
  },
  {
   "cell_type": "markdown",
   "metadata": {},
   "source": [
    "**기본 Cost 함수 식에서 미분할 때 수식을 간략하게 표현하기 위해 1/2m을 해준다.**"
   ]
  },
  {
   "cell_type": "markdown",
   "metadata": {},
   "source": [
    "![test](./img/lc3-10.png)"
   ]
  },
  {
   "cell_type": "markdown",
   "metadata": {},
   "source": [
    "**update과정에서 learning rate α는 W 값을 어마나 업데이트 할 지는 learning rate 값에 따라 결정된다.**\n",
    "\n",
    "> **즉, 실제로는 편미분 값이 너무 클 수 있기 때문에 보정 계수 α를 곱해주는데, 이 학습률을 낮쳐주면 편미분 값이 줄어들어 update 폭이 낮아지고 높여주면 편미분 값이 비교적 덜 줄어들어서 학습률 값을 조정을 통해 update 폭을 정한다.**\n",
    "\n",
    "**즉, W -= α * Cost 함수의 미분 값** "
   ]
  },
  {
   "cell_type": "markdown",
   "metadata": {},
   "source": [
    "![test](./img/lc3-11.png)"
   ]
  },
  {
   "cell_type": "markdown",
   "metadata": {},
   "source": [
    "**위 그림과 같은 Convex function은 local minimum이 여러 개 존재하므로 학습이 제대로 되지 않을 수 있다.**"
   ]
  },
  {
   "cell_type": "markdown",
   "metadata": {},
   "source": [
    "![test](./img/lc3-12.png)"
   ]
  },
  {
   "cell_type": "markdown",
   "metadata": {},
   "source": [
    "**위 그림과 같은 Convex function은 어느 지점에서 시작하더라도 global minimum에 도달할 수 있는 Convex function이다.**"
   ]
  }
 ],
 "metadata": {
  "kernelspec": {
   "display_name": "Python 3",
   "language": "python",
   "name": "python3"
  },
  "language_info": {
   "codemirror_mode": {
    "name": "ipython",
    "version": 3
   },
   "file_extension": ".py",
   "mimetype": "text/x-python",
   "name": "python",
   "nbconvert_exporter": "python",
   "pygments_lexer": "ipython3",
   "version": "3.6.9"
  }
 },
 "nbformat": 4,
 "nbformat_minor": 2
}
