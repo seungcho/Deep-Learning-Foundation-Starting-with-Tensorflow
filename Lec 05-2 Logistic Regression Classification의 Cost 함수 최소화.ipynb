{
 "cells": [
  {
   "cell_type": "markdown",
   "metadata": {},
   "source": [
    "## **Lec 05-2: Logistic Regression/Classification의 Cost 함수, 최소화**"
   ]
  },
  {
   "cell_type": "markdown",
   "metadata": {},
   "source": [
    "![test](./img/lc5-7.png)"
   ]
  },
  {
   "cell_type": "markdown",
   "metadata": {},
   "source": [
    "**Classification 문제에서 Cost 값은 Decision binary를 기준으로 각각의 데이터 포인트가 얼마나 떨어져 있는지를 기준으로 계산한다. 즉, 왼쪽 그림을 보면 결정경계가 잘못 그려진 경우 잘못 분류된 데이터 포인트에서 결정경계까지의 거리가 멀어져 cost값이 증가될 것이다. 하지만 오른쪽 같이 결정경계가 옮바르게 그려진 경우는 왼쪽에 비해 데이터 포인트와 결정경계 사이의 거리가 가까움으로 cost 값이 감소될 것이다.**"
   ]
  },
  {
   "cell_type": "markdown",
   "metadata": {},
   "source": [
    "![test](./img/lc5-8.png)"
   ]
  },
  {
   "cell_type": "markdown",
   "metadata": {},
   "source": [
    "**왼쪽 그림을 보면 h(x)(sigmoid) - y(label)로 sigoid(0 ~ 1)의 값에 0 또는 1의 값을 빼면 왼쪽 그림 처럼 구부러진 그래프 결과가 나온다. 이를 방지 해주기 위해 오른쪽 그림과 같은 Cost 함수식을 써준다. 왼쪽 그래프가 구부러진 이유는 exponential 때문으로 이에 로그를 취해줌으로써 상쇄시킴으로 그래프를 좀 더 매끄럽게 해주는 경향이 있다.**\n",
    "\n",
    "> **y = 1 일때의 Cost(h(x),y) = -log(h(x))**\n",
    "\n",
    "> **y = 0 일때의 Cost(h(x),y) = -log(1-h(x))**\n",
    "\n",
    "**위 식을 합치면 cost(h(x),y) = -ylog(h(x)) - (1-y)log(1-h(x))이다.**"
   ]
  },
  {
   "cell_type": "markdown",
   "metadata": {},
   "source": [
    "![test](./img/lc5-9.png)"
   ]
  },
  {
   "cell_type": "markdown",
   "metadata": {},
   "source": [
    "**위 cost식에 따라 각 파라미터의 가중치의 기울기가 0이 되는 방향으로 서서히 감소한다.**\n",
    "\n",
    "> **이 식에 대한 설명으로 W(update된 기울기) -= lr * W(이전의 W의 기울기)를 곱하여 오른쪽 그림처럼 기울기가 0인 지점으로 서서히 감소한다. 0으로 감소되도록 하는 이유는 그랬을때의 결과 Cost가 감소하기 때문이다. 우리의 목적은 Cost를 최소로 했을때의 가중치(W1,W2,..,Wn)을 구하는 것이기 때문이다.**"
   ]
  }
 ],
 "metadata": {
  "kernelspec": {
   "display_name": "Python 3",
   "language": "python",
   "name": "python3"
  },
  "language_info": {
   "codemirror_mode": {
    "name": "ipython",
    "version": 3
   },
   "file_extension": ".py",
   "mimetype": "text/x-python",
   "name": "python",
   "nbconvert_exporter": "python",
   "pygments_lexer": "ipython3",
   "version": "3.6.9"
  }
 },
 "nbformat": 4,
 "nbformat_minor": 2
}
