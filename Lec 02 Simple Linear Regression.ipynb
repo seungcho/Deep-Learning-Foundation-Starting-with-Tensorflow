{
 "cells": [
  {
   "cell_type": "markdown",
   "metadata": {},
   "source": [
    "## **Lec 02: Simple Linear Regression**"
   ]
  },
  {
   "cell_type": "markdown",
   "metadata": {},
   "source": [
    "![test](./img/lc2-1.png)"
   ]
  },
  {
   "cell_type": "markdown",
   "metadata": {},
   "source": [
    "![test](./img/lc2-2.png)"
   ]
  },
  {
   "attachments": {},
   "cell_type": "markdown",
   "metadata": {},
   "source": [
    "**Regression: \"Regression toward the mean\"**\n",
    "\n",
    "> **데이터가 크던, 작던 결국 전체의 평균으로 회귀(되돌아감)하려는 경향이 있다.**"
   ]
  },
  {
   "cell_type": "markdown",
   "metadata": {},
   "source": [
    "![test](./img/lc2-3.png)"
   ]
  },
  {
   "cell_type": "markdown",
   "metadata": {},
   "source": [
    "**\"Linear Regression은 데이터들을 가장 잘 대변하는 직선의 방정식을 찾는것이다.\"**\n",
    "\n",
    "> **어떤 값들이 선형적인 '증가' 혹은 '감소' 관계에 있을때 이 관계를 해석하는 것이 Linear Regression**"
   ]
  },
  {
   "cell_type": "markdown",
   "metadata": {},
   "source": [
    "![test](./img/lc2-4.png)"
   ]
  },
  {
   "cell_type": "markdown",
   "metadata": {},
   "source": [
    "**Hypothesis: \"가설(H(x))는 기울기와 절편으로 이루어진 직선 방정식이다.**"
   ]
  },
  {
   "cell_type": "markdown",
   "metadata": {},
   "source": [
    "![test](./img/lc2-5.png)"
   ]
  },
  {
   "cell_type": "markdown",
   "metadata": {},
   "source": [
    "**어떤 가설이 가장 데이터를 잘 반영하는지에 대한 지표는 cost 함수를 생각해볼 수 있다.**"
   ]
  },
  {
   "cell_type": "markdown",
   "metadata": {},
   "source": [
    "![test](./img/lc2-7.png)"
   ]
  },
  {
   "cell_type": "markdown",
   "metadata": {},
   "source": [
    "**최적의 직선의 방정식을 찾는 목표는 이러한 cost 값을 최소로 하는 직선의 방정식을 찾는 것이다.**\n",
    "\n",
    "> **여기서 제곱을 하는 이유는 H(x) - y만 하면 나오는 값들이 -,+이므로 이를 합할 경우 cost 값이 상쇄되므로 제곱하여 음수를 모두 양수로 바꾼다.**"
   ]
  },
  {
   "cell_type": "markdown",
   "metadata": {},
   "source": [
    "![test](./img/lc2-9.png)"
   ]
  },
  {
   "attachments": {},
   "cell_type": "markdown",
   "metadata": {},
   "source": [
    "**우리는 이러한 cost값 (오차개념)을 최소로 하는 W(가중치 or 기울기)와 b(편향)을 구하는게 목표이다.**"
   ]
  }
 ],
 "metadata": {
  "kernelspec": {
   "display_name": "Python 3",
   "language": "python",
   "name": "python3"
  },
  "language_info": {
   "codemirror_mode": {
    "name": "ipython",
    "version": 3
   },
   "file_extension": ".py",
   "mimetype": "text/x-python",
   "name": "python",
   "nbconvert_exporter": "python",
   "pygments_lexer": "ipython3",
   "version": "3.6.9"
  }
 },
 "nbformat": 4,
 "nbformat_minor": 2
}
